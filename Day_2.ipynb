{
  "nbformat": 4,
  "nbformat_minor": 0,
  "metadata": {
    "colab": {
      "provenance": [],
      "authorship_tag": "ABX9TyN0LNjSV6pbIMrxZa4Ky2bH",
      "include_colab_link": true
    },
    "kernelspec": {
      "name": "python3",
      "display_name": "Python 3"
    },
    "language_info": {
      "name": "python"
    }
  },
  "cells": [
    {
      "cell_type": "markdown",
      "metadata": {
        "id": "view-in-github",
        "colab_type": "text"
      },
      "source": [
        "<a href=\"https://colab.research.google.com/github/ramyareddyrikkala-469/NLP-AD-/blob/main/Day_2.ipynb\" target=\"_parent\"><img src=\"https://colab.research.google.com/assets/colab-badge.svg\" alt=\"Open In Colab\"/></a>"
      ]
    },
    {
      "cell_type": "code",
      "source": [
        "my_list = [10, 20, 30, 40, 50]\n",
        "first_element = my_list[0]   # 10\n",
        "second_element = my_list[1]  # 20\n",
        "last_element = my_list[-1]   # 50 (Negative indexing starts from -1 for the last element)\n"
      ],
      "metadata": {
        "id": "8Oy6kTEa0L6l"
      },
      "execution_count": 2,
      "outputs": []
    },
    {
      "cell_type": "code",
      "source": [],
      "metadata": {
        "id": "Bzig30k11oLU"
      },
      "execution_count": null,
      "outputs": []
    }
  ]
}
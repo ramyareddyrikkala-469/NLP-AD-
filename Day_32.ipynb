{
  "nbformat": 4,
  "nbformat_minor": 0,
  "metadata": {
    "colab": {
      "provenance": [],
      "authorship_tag": "ABX9TyOL+QOwQ/NS3/CQRNIcLO53",
      "include_colab_link": true
    },
    "kernelspec": {
      "name": "python3",
      "display_name": "Python 3"
    },
    "language_info": {
      "name": "python"
    }
  },
  "cells": [
    {
      "cell_type": "markdown",
      "metadata": {
        "id": "view-in-github",
        "colab_type": "text"
      },
      "source": [
        "<a href=\"https://colab.research.google.com/github/ramyareddyrikkala-469/NLP-AD-/blob/main/Day_32.ipynb\" target=\"_parent\"><img src=\"https://colab.research.google.com/assets/colab-badge.svg\" alt=\"Open In Colab\"/></a>"
      ]
    },
    {
      "cell_type": "code",
      "execution_count": 10,
      "metadata": {
        "colab": {
          "base_uri": "https://localhost:8080/"
        },
        "id": "mxlAMTiWwwCJ",
        "outputId": "d8756a86-50c0-478d-a429-8a2e2183e4cc"
      },
      "outputs": [
        {
          "output_type": "stream",
          "name": "stdout",
          "text": [
            "Enter text: hii\n",
            "Top 5 most frequent tokens:\n",
            "hii: 1\n"
          ]
        }
      ],
      "source": [
        "import re\n",
        "from collections import Counter\n",
        "\n",
        "def tokenize(text):\n",
        "    \"\"\"Tokenizes text into words, removing punctuation and converting to lowercase.\"\"\"\n",
        "    tokens = re.findall(r'\\b\\w+\\b', text.lower())\n",
        "    return tokens\n",
        "\n",
        "def compute_tf(tokens):\n",
        "    \"\"\"Computes term frequency (TF) for each token.\"\"\"\n",
        "    return Counter(tokens)\n",
        "\n",
        "def main():\n",
        "    text = input(\"Enter text: \")  # User inputs text\n",
        "    tokens = tokenize(text)\n",
        "    tf = compute_tf(tokens)\n",
        "\n",
        "    print(\"Top 5 most frequent tokens:\")\n",
        "    for word, freq in tf.most_common(5):\n",
        "        print(f\"{word}: {freq}\")\n",
        "\n",
        "if __name__ == \"__main__\":\n",
        "    main()\n"
      ]
    },
    {
      "cell_type": "code",
      "source": [],
      "metadata": {
        "id": "KyapN1J8xNGv"
      },
      "execution_count": null,
      "outputs": []
    }
  ]
}
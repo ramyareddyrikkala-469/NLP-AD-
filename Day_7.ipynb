{
  "nbformat": 4,
  "nbformat_minor": 0,
  "metadata": {
    "colab": {
      "provenance": [],
      "authorship_tag": "ABX9TyMQjoX46Tmsh1O9TcrGtyaK",
      "include_colab_link": true
    },
    "kernelspec": {
      "name": "python3",
      "display_name": "Python 3"
    },
    "language_info": {
      "name": "python"
    }
  },
  "cells": [
    {
      "cell_type": "markdown",
      "metadata": {
        "id": "view-in-github",
        "colab_type": "text"
      },
      "source": [
        "<a href=\"https://colab.research.google.com/github/ramyareddyrikkala-469/NLP-AD-/blob/main/Day_7.ipynb\" target=\"_parent\"><img src=\"https://colab.research.google.com/assets/colab-badge.svg\" alt=\"Open In Colab\"/></a>"
      ]
    },
    {
      "cell_type": "code",
      "source": [
        "import nltk\n",
        "import spacy\n",
        "from nltk.corpus import stopwords\n",
        "\n",
        "# Step 1: Download necessary NLTK resources\n",
        "nltk.download('stopwords')\n",
        "\n",
        "# Step 2: Load SpaCy's English language model\n",
        "nlp = spacy.load('en_core_web_sm')\n",
        "\n",
        "# Sample text\n",
        "text = \"This is a sample text. We will remove stopwords and convert this to lowercase.\"\n",
        "\n",
        "# Step 3: Convert text to lowercase\n",
        "text_lower = text.lower()\n",
        "\n",
        "# Step 4: Remove stopwords using NLTK\n",
        "# Get the set of English stopwords from NLTK\n",
        "stop_words = set(stopwords.words('english'))\n",
        "\n",
        "# Tokenize the text using SpaCy\n",
        "doc = nlp(text_lower)\n",
        "\n",
        "# Step 5: Filter out stopwords\n",
        "filtered_tokens = [token.text for token in doc if token.text not in stop_words]\n",
        "\n",
        "# Step 6: Join the filtered tokens back into a string\n",
        "filtered_text = ' '.join(filtered_tokens)\n",
        "\n",
        "# Output the processed text\n",
        "print(\"Original Text:\")\n",
        "print(text)\n",
        "print(\"\\nProcessed Text:\")\n",
        "print(filtered_text)\n"
      ],
      "metadata": {
        "colab": {
          "base_uri": "https://localhost:8080/"
        },
        "id": "V222EH6V4cOj",
        "outputId": "e2e58938-b1e4-41c4-b8a8-2bb2b4d99b76"
      },
      "execution_count": 11,
      "outputs": [
        {
          "output_type": "stream",
          "name": "stderr",
          "text": [
            "[nltk_data] Downloading package stopwords to /root/nltk_data...\n",
            "[nltk_data]   Unzipping corpora/stopwords.zip.\n"
          ]
        },
        {
          "output_type": "stream",
          "name": "stdout",
          "text": [
            "Original Text:\n",
            "This is a sample text. We will remove stopwords and convert this to lowercase.\n",
            "\n",
            "Processed Text:\n",
            "sample text . remove stopwords convert lowercase .\n"
          ]
        }
      ]
    },
    {
      "cell_type": "code",
      "source": [],
      "metadata": {
        "id": "94r57Kvh4pTv"
      },
      "execution_count": null,
      "outputs": []
    }
  ]
}
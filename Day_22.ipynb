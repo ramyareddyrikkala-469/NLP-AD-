{
  "nbformat": 4,
  "nbformat_minor": 0,
  "metadata": {
    "colab": {
      "provenance": [],
      "authorship_tag": "ABX9TyOUd/FQmFCoMgGocoBaP9g9",
      "include_colab_link": true
    },
    "kernelspec": {
      "name": "python3",
      "display_name": "Python 3"
    },
    "language_info": {
      "name": "python"
    }
  },
  "cells": [
    {
      "cell_type": "markdown",
      "metadata": {
        "id": "view-in-github",
        "colab_type": "text"
      },
      "source": [
        "<a href=\"https://colab.research.google.com/github/ramyareddyrikkala-469/NLP-AD-/blob/main/Day_22.ipynb\" target=\"_parent\"><img src=\"https://colab.research.google.com/assets/colab-badge.svg\" alt=\"Open In Colab\"/></a>"
      ]
    },
    {
      "cell_type": "code",
      "execution_count": 14,
      "metadata": {
        "colab": {
          "base_uri": "https://localhost:8080/"
        },
        "id": "mxlAMTiWwwCJ",
        "outputId": "e27961b8-2a00-4aa0-a826-ee2c92c6a03e"
      },
      "outputs": [
        {
          "output_type": "stream",
          "name": "stderr",
          "text": [
            "/usr/local/lib/python3.11/dist-packages/spacy/util.py:1740: UserWarning: [W111] Jupyter notebook detected: if using `prefer_gpu()` or `require_gpu()`, include it in the same cell right before `spacy.load()` to ensure that the model is loaded on the correct device. More information: http://spacy.io/usage/v3#jupyter-notebook-gpu\n",
            "  warnings.warn(Warnings.W111)\n"
          ]
        },
        {
          "output_type": "stream",
          "name": "stdout",
          "text": [
            "NLP: PROPN\n",
            "is: AUX\n",
            "amazing: ADJ\n",
            "and: CCONJ\n",
            "fun: ADJ\n",
            "to: PART\n",
            "learn: VERB\n",
            ".: PUNCT\n"
          ]
        }
      ],
      "source": [
        "#22\n",
        "import spacy\n",
        "\n",
        "def pos_tagging(sentence):\n",
        "    # Load the English language model\n",
        "    nlp = spacy.load(\"en_core_web_sm\")\n",
        "\n",
        "    # Process the sentence\n",
        "    doc = nlp(sentence)\n",
        "\n",
        "    # Print word with corresponding POS tag\n",
        "    for token in doc:\n",
        "        print(f\"{token.text}: {token.pos_}\")\n",
        "\n",
        "if __name__ == \"__main__\":\n",
        "    sentence = \"NLP is amazing and fun to learn.\"\n",
        "    pos_tagging(sentence)\n"
      ]
    },
    {
      "cell_type": "code",
      "source": [],
      "metadata": {
        "id": "KyapN1J8xNGv"
      },
      "execution_count": null,
      "outputs": []
    }
  ]
}
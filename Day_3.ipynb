{
  "nbformat": 4,
  "nbformat_minor": 0,
  "metadata": {
    "colab": {
      "provenance": [],
      "authorship_tag": "ABX9TyOeb1cMyw/Yzj7zhxmlAV8h",
      "include_colab_link": true
    },
    "kernelspec": {
      "name": "python3",
      "display_name": "Python 3"
    },
    "language_info": {
      "name": "python"
    }
  },
  "cells": [
    {
      "cell_type": "markdown",
      "metadata": {
        "id": "view-in-github",
        "colab_type": "text"
      },
      "source": [
        "<a href=\"https://colab.research.google.com/github/ramyareddyrikkala-469/NLP-AD-/blob/main/Day_3.ipynb\" target=\"_parent\"><img src=\"https://colab.research.google.com/assets/colab-badge.svg\" alt=\"Open In Colab\"/></a>"
      ]
    },
    {
      "cell_type": "code",
      "source": [
        "\n",
        "marks1 = float(input(\"Enter marks for Subject 1: \"))\n",
        "marks2 = float(input(\"Enter marks for Subject 2: \"))\n",
        "marks3 = float(input(\"Enter marks for Subject 3: \"))\n",
        "\n",
        "average = (marks1 + marks2 + marks3) / 3\n",
        "if average >= 90:\n",
        "    print(\"Grade: A\")\n",
        "elif 80 <= average < 90:\n",
        "    print(\"Grade: B\")\n",
        "elif 70 <= average < 80:\n",
        "    print(\"Grade: C\")\n",
        "else:\n",
        "    print(\"Grade: Fail\")\n"
      ],
      "metadata": {
        "colab": {
          "base_uri": "https://localhost:8080/"
        },
        "id": "Bzig30k11oLU",
        "outputId": "7e59ad2c-08ec-4504-9175-57ff8f675384"
      },
      "execution_count": 5,
      "outputs": [
        {
          "output_type": "stream",
          "name": "stdout",
          "text": [
            "Enter marks for Subject 1: 99\n",
            "Enter marks for Subject 2: 100\n",
            "Enter marks for Subject 3: 100\n",
            "Grade: A\n"
          ]
        }
      ]
    },
    {
      "cell_type": "code",
      "source": [],
      "metadata": {
        "id": "cVVCHA9I2YiV"
      },
      "execution_count": null,
      "outputs": []
    }
  ]
}
{
  "nbformat": 4,
  "nbformat_minor": 0,
  "metadata": {
    "colab": {
      "provenance": [],
      "authorship_tag": "ABX9TyM6x3q5/1T3+DtEqH9T9Z+b",
      "include_colab_link": true
    },
    "kernelspec": {
      "name": "python3",
      "display_name": "Python 3"
    },
    "language_info": {
      "name": "python"
    }
  },
  "cells": [
    {
      "cell_type": "markdown",
      "metadata": {
        "id": "view-in-github",
        "colab_type": "text"
      },
      "source": [
        "<a href=\"https://colab.research.google.com/github/ramyareddyrikkala-469/NLP-AD-/blob/main/Day_1.ipynb\" target=\"_parent\"><img src=\"https://colab.research.google.com/assets/colab-badge.svg\" alt=\"Open In Colab\"/></a>"
      ]
    },
    {
      "cell_type": "code",
      "execution_count": 1,
      "metadata": {
        "colab": {
          "base_uri": "https://localhost:8080/"
        },
        "id": "rTtHCFcj0Fr2",
        "outputId": "1b4fc725-71af-42c8-b19b-1ea4dab9f7c8"
      },
      "outputs": [
        {
          "output_type": "stream",
          "name": "stdout",
          "text": [
            "Integer Variable: 10 Type: <class 'int'>\n",
            "Float Variable: 3.14 Type: <class 'float'>\n",
            "String Variable: Hello, Jupyter! Type: <class 'str'>\n",
            "Boolean Variable: True Type: <class 'bool'>\n"
          ]
        }
      ],
      "source": [
        "# Declaring variables of different data types\n",
        "integer_var = 10\n",
        "float_var = 3.14\n",
        "string_var = \"Hello, Jupyter!\"\n",
        "boolean_var = True\n",
        "\n",
        "# Printing each variable and its type\n",
        "print(\"Integer Variable:\", integer_var, \"Type:\", type(integer_var))\n",
        "print(\"Float Variable:\", float_var, \"Type:\", type(float_var))\n",
        "print(\"String Variable:\", string_var, \"Type:\", type(string_var))\n",
        "print(\"Boolean Variable:\", boolean_var, \"Type:\", type(boolean_var))\n"
      ]
    },
    {
      "cell_type": "code",
      "source": [],
      "metadata": {
        "id": "8Oy6kTEa0L6l"
      },
      "execution_count": null,
      "outputs": []
    }
  ]
}